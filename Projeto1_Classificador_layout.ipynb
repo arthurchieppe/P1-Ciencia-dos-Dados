{
 "cells": [
  {
   "cell_type": "markdown",
   "metadata": {},
   "source": [
    "# Projeto 1 - Ciência dos Dados"
   ]
  },
  {
   "cell_type": "markdown",
   "metadata": {},
   "source": [
    "Nome: Arthur Gomes Chieppe\n",
    "\n",
    "Nome: João Pedro Di Jardim Marquez"
   ]
  },
  {
   "cell_type": "markdown",
   "metadata": {},
   "source": [
    "**Atenção:** Serão permitidos grupos de três pessoas, mas com uma rubrica mais exigente. Grupos deste tamanho precisarão fazer um questionário de avaliação de trabalho em equipe"
   ]
  },
  {
   "cell_type": "markdown",
   "metadata": {},
   "source": [
    "___\n",
    "Carregando algumas bibliotecas:"
   ]
  },
  {
   "cell_type": "code",
   "execution_count": 1,
   "metadata": {},
   "outputs": [],
   "source": [
    "%matplotlib inline\n",
    "import pandas as pd\n",
    "import matplotlib.pyplot as plt\n",
    "import numpy as np\n",
    "import os"
   ]
  },
  {
   "cell_type": "markdown",
   "metadata": {},
   "source": [
    "**Em `filename`, coloque o nome do seu arquivo de dados!**"
   ]
  },
  {
   "cell_type": "code",
   "execution_count": 2,
   "metadata": {
    "scrolled": false
   },
   "outputs": [
    {
     "name": "stdout",
     "output_type": "stream",
     "text": [
      "Encontrei o arquivo PS5.xlsx, tudo certo para prosseguir com a prova!\n"
     ]
    }
   ],
   "source": [
    "import os\n",
    "\n",
    "filename = 'PS5.xlsx'\n",
    "if filename in os.listdir():\n",
    "    print(f'Encontrei o arquivo {filename}, tudo certo para prosseguir com a prova!')\n",
    "else:\n",
    "    print(f'Não encontrei o arquivo {filename} aqui no diretório {os.getcwd()}, será que você não baixou o arquivo?')"
   ]
  },
  {
   "cell_type": "markdown",
   "metadata": {},
   "source": [
    "Carregando a base de dados com os tweets classificados como relevantes e não relevantes:"
   ]
  },
  {
   "cell_type": "code",
   "execution_count": 12,
   "metadata": {},
   "outputs": [
    {
     "data": {
      "text/html": [
       "<div>\n",
       "<style scoped>\n",
       "    .dataframe tbody tr th:only-of-type {\n",
       "        vertical-align: middle;\n",
       "    }\n",
       "\n",
       "    .dataframe tbody tr th {\n",
       "        vertical-align: top;\n",
       "    }\n",
       "\n",
       "    .dataframe thead th {\n",
       "        text-align: right;\n",
       "    }\n",
       "</style>\n",
       "<table border=\"1\" class=\"dataframe\">\n",
       "  <thead>\n",
       "    <tr style=\"text-align: right;\">\n",
       "      <th></th>\n",
       "      <th>Treinamento</th>\n",
       "      <th>Relevância:</th>\n",
       "    </tr>\n",
       "  </thead>\n",
       "  <tbody>\n",
       "    <tr>\n",
       "      <th>0</th>\n",
       "      <td>@immandy4 o arquiteto do ps5 disse que ele ser...</td>\n",
       "      <td>1</td>\n",
       "    </tr>\n",
       "    <tr>\n",
       "      <th>1</th>\n",
       "      <td>o vídeo que eu fiz pro evento tá no youtube tb...</td>\n",
       "      <td>0</td>\n",
       "    </tr>\n",
       "    <tr>\n",
       "      <th>2</th>\n",
       "      <td>@chief117_com_br @vingadorbrambz enquanto o da...</td>\n",
       "      <td>1</td>\n",
       "    </tr>\n",
       "    <tr>\n",
       "      <th>3</th>\n",
       "      <td>possivelmente hoje sai o valor e a data de lan...</td>\n",
       "      <td>1</td>\n",
       "    </tr>\n",
       "    <tr>\n",
       "      <th>4</th>\n",
       "      <td>@lealemy_ sim, mas os produtos da sony vão par...</td>\n",
       "      <td>1</td>\n",
       "    </tr>\n",
       "    <tr>\n",
       "      <th>5</th>\n",
       "      <td>não oficial, este modelo preto para o #ps5 ser...</td>\n",
       "      <td>1</td>\n",
       "    </tr>\n",
       "    <tr>\n",
       "      <th>6</th>\n",
       "      <td>@marcelo_gj1 @omattmeyer @lv_ogandojr @marccon...</td>\n",
       "      <td>1</td>\n",
       "    </tr>\n",
       "    <tr>\n",
       "      <th>7</th>\n",
       "      <td>hoje as 17:00 finalmente saberemos a data e pr...</td>\n",
       "      <td>1</td>\n",
       "    </tr>\n",
       "    <tr>\n",
       "      <th>8</th>\n",
       "      <td>falta pouco, hein! hj às 17h promete! #playsta...</td>\n",
       "      <td>0</td>\n",
       "    </tr>\n",
       "    <tr>\n",
       "      <th>9</th>\n",
       "      <td>só falta o ps5 agr 😭 https://t.co/bwgw1hee77</td>\n",
       "      <td>0</td>\n",
       "    </tr>\n",
       "    <tr>\n",
       "      <th>10</th>\n",
       "      <td>bom dia é o caralho!\\n\\nacordei, aí fui na coz...</td>\n",
       "      <td>0</td>\n",
       "    </tr>\n",
       "    <tr>\n",
       "      <th>11</th>\n",
       "      <td>@newsandleaksbr q hrs vai ser o evento do ps5?</td>\n",
       "      <td>1</td>\n",
       "    </tr>\n",
       "    <tr>\n",
       "      <th>12</th>\n",
       "      <td>@daviluna7 ps5 só ostentação</td>\n",
       "      <td>0</td>\n",
       "    </tr>\n",
       "    <tr>\n",
       "      <th>13</th>\n",
       "      <td>alguém já sabe se da pra trocas uns 3 sacos de...</td>\n",
       "      <td>0</td>\n",
       "    </tr>\n",
       "    <tr>\n",
       "      <th>14</th>\n",
       "      <td>@kaylasweetx tu e um ps5</td>\n",
       "      <td>0</td>\n",
       "    </tr>\n",
       "    <tr>\n",
       "      <th>15</th>\n",
       "      <td>@kamatsukyoto se colocar a caixa do ps5 e uma ...</td>\n",
       "      <td>1</td>\n",
       "    </tr>\n",
       "    <tr>\n",
       "      <th>16</th>\n",
       "      <td>hoje temos o evento do ps5, será que vai vir c...</td>\n",
       "      <td>1</td>\n",
       "    </tr>\n",
       "    <tr>\n",
       "      <th>17</th>\n",
       "      <td>mesmo não sendo fã do gênero souls, fico na to...</td>\n",
       "      <td>1</td>\n",
       "    </tr>\n",
       "    <tr>\n",
       "      <th>18</th>\n",
       "      <td>@theuspdias era pra ser ps5</td>\n",
       "      <td>0</td>\n",
       "    </tr>\n",
       "    <tr>\n",
       "      <th>19</th>\n",
       "      <td>ps5 digital a $399\\n\\nquem confia dá dois pulinho</td>\n",
       "      <td>1</td>\n",
       "    </tr>\n",
       "  </tbody>\n",
       "</table>\n",
       "</div>"
      ],
      "text/plain": [
       "                                          Treinamento  Relevância:\n",
       "0   @immandy4 o arquiteto do ps5 disse que ele ser...            1\n",
       "1   o vídeo que eu fiz pro evento tá no youtube tb...            0\n",
       "2   @chief117_com_br @vingadorbrambz enquanto o da...            1\n",
       "3   possivelmente hoje sai o valor e a data de lan...            1\n",
       "4   @lealemy_ sim, mas os produtos da sony vão par...            1\n",
       "5   não oficial, este modelo preto para o #ps5 ser...            1\n",
       "6   @marcelo_gj1 @omattmeyer @lv_ogandojr @marccon...            1\n",
       "7   hoje as 17:00 finalmente saberemos a data e pr...            1\n",
       "8   falta pouco, hein! hj às 17h promete! #playsta...            0\n",
       "9        só falta o ps5 agr 😭 https://t.co/bwgw1hee77            0\n",
       "10  bom dia é o caralho!\\n\\nacordei, aí fui na coz...            0\n",
       "11     @newsandleaksbr q hrs vai ser o evento do ps5?            1\n",
       "12                       @daviluna7 ps5 só ostentação            0\n",
       "13  alguém já sabe se da pra trocas uns 3 sacos de...            0\n",
       "14                           @kaylasweetx tu e um ps5            0\n",
       "15  @kamatsukyoto se colocar a caixa do ps5 e uma ...            1\n",
       "16  hoje temos o evento do ps5, será que vai vir c...            1\n",
       "17  mesmo não sendo fã do gênero souls, fico na to...            1\n",
       "18                        @theuspdias era pra ser ps5            0\n",
       "19  ps5 digital a $399\\n\\nquem confia dá dois pulinho            1"
      ]
     },
     "execution_count": 12,
     "metadata": {},
     "output_type": "execute_result"
    }
   ],
   "source": [
    "train = pd.read_excel(filename)\n",
    "train.head(20)"
   ]
  },
  {
   "cell_type": "code",
   "execution_count": 4,
   "metadata": {},
   "outputs": [
    {
     "data": {
      "text/html": [
       "<div>\n",
       "<style scoped>\n",
       "    .dataframe tbody tr th:only-of-type {\n",
       "        vertical-align: middle;\n",
       "    }\n",
       "\n",
       "    .dataframe tbody tr th {\n",
       "        vertical-align: top;\n",
       "    }\n",
       "\n",
       "    .dataframe thead th {\n",
       "        text-align: right;\n",
       "    }\n",
       "</style>\n",
       "<table border=\"1\" class=\"dataframe\">\n",
       "  <thead>\n",
       "    <tr style=\"text-align: right;\">\n",
       "      <th></th>\n",
       "      <th>Teste</th>\n",
       "      <th>Relevância:</th>\n",
       "    </tr>\n",
       "  </thead>\n",
       "  <tbody>\n",
       "    <tr>\n",
       "      <th>0</th>\n",
       "      <td>sony nega, mas ações continuam em queda após r...</td>\n",
       "      <td>1.0</td>\n",
       "    </tr>\n",
       "    <tr>\n",
       "      <th>1</th>\n",
       "      <td>hoje tem \\n\\n#ps5</td>\n",
       "      <td>0.0</td>\n",
       "    </tr>\n",
       "    <tr>\n",
       "      <th>2</th>\n",
       "      <td>@prodigyrr não faça isso. ps5 ta uma completa ...</td>\n",
       "      <td>0.0</td>\n",
       "    </tr>\n",
       "    <tr>\n",
       "      <th>3</th>\n",
       "      <td>hoje lançam o preço do ps5, tô só por saber qu...</td>\n",
       "      <td>1.0</td>\n",
       "    </tr>\n",
       "    <tr>\n",
       "      <th>4</th>\n",
       "      <td>@1playergirl bom, nesse momento me sinto num h...</td>\n",
       "      <td>0.0</td>\n",
       "    </tr>\n",
       "  </tbody>\n",
       "</table>\n",
       "</div>"
      ],
      "text/plain": [
       "                                               Teste  Relevância:\n",
       "0  sony nega, mas ações continuam em queda após r...          1.0\n",
       "1                                  hoje tem \\n\\n#ps5          0.0\n",
       "2  @prodigyrr não faça isso. ps5 ta uma completa ...          0.0\n",
       "3  hoje lançam o preço do ps5, tô só por saber qu...          1.0\n",
       "4  @1playergirl bom, nesse momento me sinto num h...          0.0"
      ]
     },
     "execution_count": 4,
     "metadata": {},
     "output_type": "execute_result"
    }
   ],
   "source": [
    "test = pd.read_excel(filename, sheet_name = 'Teste')\n",
    "test.head(5)"
   ]
  },
  {
   "cell_type": "markdown",
   "metadata": {},
   "source": [
    "___\n",
    "## Classificador automático de sentimento\n"
   ]
  },
  {
   "cell_type": "markdown",
   "metadata": {},
   "source": [
    "Faça aqui uma descrição do seu produto e o que considerou como relevante ou não relevante na classificação dos tweets.\n",
    "\n",
    "Nosso produto trata-se do console de videogames PlayStation5. Quando extraímos os Tweets, havia uma espera coletiva acerca da livestream de lançamento do novo PlayStation 5. Assim , consideramos relevante especulações acerca do preço do novo console, bem como opiniões dos usuários sobre seu design. Ademais, consideramos algumas comparações entre o novo PlayStation e Xbox como relevantes, porém somente aquelas bem fundamentadas e intencionadas, já que consideramos irrelevantes comparações vagas e com discurso de ódio. Anúncios feitos acerca da live também foram consideradas como relevantes, com exceção de anúncios que tinham como objetivo somente a autopromoção dos usuários."
   ]
  },
  {
   "cell_type": "markdown",
   "metadata": {},
   "source": [
    "___\n",
    "### Montando um Classificador Naive-Bayes\n",
    "\n",
    "Considerando apenas as mensagens da planilha Treinamento, ensine  seu classificador."
   ]
  },
  {
   "cell_type": "code",
   "execution_count": 37,
   "metadata": {},
   "outputs": [],
   "source": [
    "#Limpando caracteres:\n",
    "train_limpo = train.iloc[:, 0]\n",
    "ls= []\n",
    "for w in train_limpo:\n",
    "    w.replace('a','')\n",
    "    w.replace(\":\",'')\n",
    "    w.replace('\"','')\n",
    "    w.replace(\"'\",'')\n",
    "    w.replace(\"(\",'')\n",
    "    w.replace(\")\",'')\n",
    "    w.replace(\"\\n\",'')\n",
    "    ls.append(w)\n",
    "    \n",
    "    "
   ]
  },
  {
   "cell_type": "code",
   "execution_count": 35,
   "metadata": {},
   "outputs": [
    {
     "name": "stdout",
     "output_type": "stream",
     "text": [
      "['@immandy4 o arquiteto do ps5 disse que ele será muito silêncioso e terá um sistema de resfriamento robusto', 'o vídeo que eu fiz pro evento tá no youtube tbm!\\n\\n#ps5 #ps5showcase #playfivebrasil \\n\\nhttps://t.co/wcyyfxzrke', '@chief117_com_br @vingadorbrambz enquanto o datacenter da ms tá funcionando que é uma beleza no fundo do oceano, a sony tendo problema na fabricação do ps5 não vai ter sopro que faça ela navegar nesse mar.', 'possivelmente hoje sai o valor e a data de lançamento do ps5. vamos ver qual vai ser a estratégia da sony, depois da bomba que a microsoft jogou no mercado. https://t.co/kgeddwo0f6', '@lealemy_ sim, mas os produtos da sony vão parar de ser vendidos no brasil. no caso do ps5, ele vai ser por distribuidores parceiros o que significa que o produto vai custar mais caro do que se esperava.', 'não oficial, este modelo preto para o #ps5 seria uma boa pedida. melhor do que o original? https://t.co/9jq5jhypy6', '@marcelo_gj1 @omattmeyer @lv_ogandojr @marcconserv @tialulu_ 14 por cento de poder não faz diferença um exemplo e o novo cód se o ps5 e mais fraco porque ele estava na mesma resolução do xbox séries x ?', 'hoje as 17:00 finalmente saberemos a data e preço do ps5 (ou não, afinal a sony já fez uma apresetanção mostrando apenas um logo) - https://t.co/9xs7ngvx0f - ainda chuto u$500 na versão com disco e u$400 na digital. sem esperança de um lançamento no brasil esse ano ainda.', 'falta pouco, hein! hj às 17h promete! #playstation5 #ps5\\n#ps5showcase \\nhttps://t.co/gjayiyvmoc', 'só falta o ps5 agr 😭 https://t.co/bwgw1hee77', 'bom dia é o caralho!\\n\\nacordei, aí fui na cozinha tomar uma café e meu sobrinho veio correndo me abraçar pra me dar bom dia, dei logo um chutão, joguei na porta, bom dia o caralho, hoje é dia de guerra porra, é dia de ps5, mané bom dia, pilhado e a criança vem me da bom dia!', '@newsandleaksbr q hrs vai ser o evento do ps5?', '@daviluna7 ps5 só ostentação', 'alguém já sabe se da pra trocas uns 3 sacos de arroz por um ps5? #playstation5', '@kaylasweetx tu e um ps5', '@kamatsukyoto se colocar a caixa do ps5 e uma loja de utensílios tem gente que compra pesando que é um ventilador torre.', 'hoje temos o evento do ps5, será que vai vir com o preço também?', 'mesmo não sendo fã do gênero souls, fico na torcida do demon souls no lançamento do ps5', '@theuspdias era pra ser ps5', 'ps5 digital a $399\\n\\nquem confia dá dois pulinho', 'bom dia nação twitteira! falta pouco agora. toma uma água, deixa tudo pronto, hoje é dia, hoje é lama, é festa na favela, é tudo! #ps5 #believethehype https://t.co/4grjmustu5', '@ycaroq amgs tenho revelar uma coisa eu sou gay e hjeu dei mt para um senhor de idade rico e agr eu to com um iphone 15 pro max e foi mt bom o leite dele no meu ..... nossa tava perfeito agr eu vou ver ele amanhã para ganhar um ps5 e um xbox do novo lá kkkk', '@meuplaystation flw galeraaaaa, vou lá no estados unidos, compro 4 ps5, 7 pc gamer, 2 xbox, quando voltar eu vou vender por 30000', 'evento da sony amanhã vai ter:\\n- god of war ragnarok\\n- bloodborne 2\\n- elden ring\\n- silent hills \\n- preços do ps5\\n\\nfontes quentes confirmaram 🙌🏼', 'acordei né, de boa, fui na cozinha tomar um café e minha sobrinha veio me dar bom dia \\ndei logo um chutão, joguei ela na porta, bom dia é o caralho, hoje é dia ps5, silent hill, finalmente preço e data dessa porra, gameplays, jogos fodas. que mané bom dia. #ps5showcase #ps5', '@frzzxyrj vai jogar no ps5?', 'imagina pra consumir ps5 ano que vem , mais jogos e produtos eletronicos  , com nossa moeda desvalorizada , pessima noticia ! https://t.co/9qpmmhp5qo', 'primeiro a nintendo fecha as portas no brasil, agora a sony. preparem-se para os preços nada convidativos dos modelos do ps5', '9 dias pro meu aniversário, e ninguém me ofereceu um ps5. #chateado', 'amanha tem ps5 ngm me deixa triste', '@stu_felipe @folha @folha_mercado o ps5 lança em novembro até janeiro estará tudo normalizado e posto aqui a foto com arminha pra vc ver, não bloqueia não pra vc ver a foto ok', 'que persona 3 remake seja anunciado hoje no evento do ps5 amem', '@_thurt_ @willsprnce ata é isso, deixa de ser besta mlk trouxa, vc só vai ter ps5 daqui a uns 6 anos', 'discord https://t.co/q6oxummoxf\\nsiga nossas midias sociais e acompanhe memes, noticias, vídeos e lives \\n@aldoriagames\\nseja apoiador e participe de sorteios\\n#memes #humor #meme #nostalgia #ps5 #ps4 #xbox https://t.co/1xors1usty', 'é hoje!!! 😱⌛️😱⌛️\\n\\ngostou do vídeo? compartilhe!\\n\\nnos siga em todas as redes sociais, só pesquisar por #playfivebrasil no instagram e facebook!\\n\\n#ps5 #ps5showcase #playstation #game #sony @sony @sonybrasil @playstation @playstation_br https://t.co/d1fzxdlwn5', '@spedfrom antes uma ps5 😆', 'as maiores e persistentes dúvidas sobre a ps5, a que a sony precisa dar resposta no showcase de mais logo. https://t.co/gvu0ajt5lg', 'hoje é o dia que a sony anuncia o preço do ps5 e eu nem to criando expectativa... mesmo que a versão com mídia digital saia por 299 dólares, como o queridinho xbox series s, ainda vai ser um celtinha 2001 sem ar aqui no brasil...', 'se a sony botar o lançamento do ps5 em novembro também, vocês já sabem o que me dar de aniversário né??', 'está chegando a hora, 17h tem o grande evento do ano até o momento. meu palpite para o ps5 é de: \\n\\n€499,90 com leitor.\\n€399,90 sem leitor. \\n\\n https://t.co/yjmbnerwjv', '@breninhoo19 @mikkaizinho @mitodante_ eu não botei defeito nenhum eu acho playstation sensacional, eu não tenho guerra de console, mas o ps5 é inferior que o xbox series x', 'hj tem ps5 galera bom dia', '@chamanolink pc gamer ou um ps5 ou um xbox series x', 'e meu priminho que sabia que eu ia ficar nervosa com a cirurgia do stark, e me mandou o ps5 dele pra eu relaxa 💜', '@capitaocritica mano... pra que... fica de boa jogando o seu ps5 que eu fico deboa no xbox 🙂👍', 'bom dia, hoje tem precinho do ps5, será?', '@kingkun77220043 @dougmad4k comprei o ps5 também kkkk vá a merda mano', 'amanhã tem evento da sony sobre o ps5. a capcom já confirmou que as tão esperadas novidades de #revillage chegam no fim de setembro\\n\\nmas será que amanhã a gente pode ter algo novo? nem que seja uma nova imagem? 👀\\n\\n#rebhfun https://t.co/fto9ghdlai', 'é hoje \\U0001f90d🖤💙 #ps5showcase #ps5 https://t.co/ejjqhjnfgg', 'alguem me da money dinheirinho pra mim comprar o ps5', '@cariocachinese @gmunhoz__ negócio é esperar lançar ps5 pra comprar o 4, e assim vai indo \\nos: com o xbox também, pq da muito stönks \\U0001f90f😎👍', 'sinceramente meu hype pro evento do ps5 é preço e data de lançamento, só isso, não espero nada demais além disso, no máximo um trailer novo ou gameplay de jogos já apresentados.', '@_evertroll isso é verdade, agora de tarde tavam hypando o ps5 por ter wi-fi 6 e usb tipo-c enquanto o séries x era wi-fi 5 e aquelas entradas mais antigas... olha as coisas que eles se apegam...', '@prodigyrr e não esquece que a sony não é a microsoft kkkkkkk provavelmente o c40 n vai funcionar no ps5', 'gta 6 no evento do ps5 amanhã?', 'aniversário do grêmio foi aquele q vc espera um ps5 e ganha uma meia.', 'caiu o 💰 do willian na conta dele, misteriosamente champz vai compra um ps5 https://t.co/qjuwxvbdo6', 'hoje sai o preço do ps5? chuto $399 e $499 se rolar $449 e $399 a sony vai mitar.', '@sapo então é uma ps5 para aqui, se faz favor ;)', '@lucca_jonatas opa, eae jônata, bom dia! \\ncara, eu vou com o chute de 399/499 pro ps5, e vai sair dia 13 de novembro, chute final kkk\\neu tenho o costume de falar q vai ser um grande dia qnd tem evento huahua', '@vingadorbrambz quem sabe é essa solução para super aquecimento do ps5 🤣🤣🤣', \"@paulo_ufs @sblargh @folha @folha_mercado sei não, a fábrica em manaus permitia a sony 'fugir' de alguns impostos/custos de produtos importados e isso era revertido no preço dos aparelhos. vi uma nota na net dizendo que o ps5 vai ser importado comercializado no brasil através de um distribuidor, acho q rola um reajuste\", '@rillextriste bom dia mano. agoniado aqui pra saber quanto os gringos vão pagar no ps5.', 'amanhã 17:00 será que saberemos quantos 6k vai custar um ps5?', 'só fico observando uns caras aí desmerecendo o ps5, mas na primeira oportunidade q tivesse, com certeza adquiria o console. aiaiai...', 'o fechamento da fábrica da sony no brasil pode afetar o ps5? entenda a situação\\no mercado de tecnologia brasileiro foi pego de surpresa com o anúncio do fechamento da fábrica https://t.co/lw97w0e0bg', \"já que amanhã as 17h tem evento do #ps5 queria deixar esse vídeo aqui pra todos verem a minha reação junto com o @mathzilla616 @tf_spade e @rick5621 ao trailer de anúncio do marvel's spider-man: miles morales. to sentindo gameplay amanhã.\\nse divirtam kkkkkkk\\n#milesmoralesps5 https://t.co/fudwklzthd\", '@alexandre_nsa só restou essa narrativa pra eles, pode ficar tranquilos que ainda vai sair muitas pérolas como essa até o lançamento.. primeiro que já é piada pronta pois olha o tamanho do trambolho chamado ps5.', '@c0rotin q bosta o plano era comprar o ps5 3 anos depois do lançamento', 'lembra quando a sony anunciou um evento de vr e que n ia falar nada do ps5 mas aí os preços do xbox vazaram e aí o evento virou de ps5?', 'jogos que mais espero no evento de amanhã:\\n\\n- elden ring + data de lançamento\\n- nova ip da santa monica\\n- dlc da campanha de sekiro\\n- remake de the last of us part ii com história reescrita \\n- sackboy no smash \\n\\nexpectativas altíssimas! vai, sony! 🙏 #ps5', '@matheusvictorch @diegogigaton pode ser algum teaser da dlc de final do ano, eu não esperaria nada relacionado ao ps5 agr', '@jairbolsonaro boa noite presidente. você poderia nos ajudar, sim, nós, gamers. que queremos que o preço do ps5 não seja um absurdo no brasil.\\nfaz a boa presida 👍', 'pessoal tá com uma expectativa alta pro ps5 e de fato é interessante.\\n\\nmas o xbox series x + o game pass ultimate, no longo prazo, é muito mais negócio. https://t.co/bl4ktoer3g', '@kamatsukyoto a dos xbox tão bonitas pô,mas essa do ps5...parece de cafeteira', '#tlou2 😱\\njá garantiu o seu #thelastofus2⁉\\nveja este e outros grandes sucessos aqui na #bigboygames 😍\\naproveite, pois são pouca unidades...🏃🏃\\u200d♀️\\n\\nhttps://t.co/jkwzknhfuj\\n\\ncompramos seu jogo usado\\n📱16 99763-7729\\n\\n#lojabigboygames #bigboy #ps4 #playstation4 #ps5 #seminovos https://t.co/tv8bfcgjgq', '@marqueszero boa sorte em resolver pepinos e tenhamos fé que o ps5 seja barato aqui no brasil 🙌🏻🙌🏻🙌🏻🙌🏻', '@rjrmarafon @m4ximizando caraca véi, independente de qualquer coisa o ps5 é enorme mesmo.', 'hoje também é dia de saber mais do #playstation5 ! \\xa0o evento playstation 5 showcase acontece hoje, às 17h do horário de brasília. quem aí tá animado pra saber mais do #ps5? https://t.co/zythhmpp5v', '@dougmad4k des d quando o fechamento da fabrica devido a impostos ,alta do dolar etc tem com a venda elevada no preço do ps5 aki ,ja q a sony nao fabricava video game no território nacional .\\nsera q alguem leu a materia \\nsem falar q varias pessoas vao ficar sem emprego , mas bora comemorar', 'acordei né, de boa, fui na cozinha tomar café e minha irmã veio me dar bom dia, dei logo um chutão na costela, joguei ela na porta, e gritei, bom dia é o caralho, hoje tem evento do #ps5, que mané bom dia, acordei pilhadão  nessa porra e a ela vem com bom dia toma no cu https://t.co/tniofq4gtl', '@arielsis kabum vai sortear um ps5 no provável day one, acho que isso já era indícios que seria lançado aqui day one !', 'e finalmente a sony mostra o baralho para o launch da nova geração! que expectativas têm? algo que estejam à espera? \\n\\nfaçam as vossas apostas que eu e o coach vamos dissecá-las no próximo episódio!\\n\\n-roberto\\n\\n#portugal #sony #videojogos #playstation #ps5showcase #ps5 https://t.co/yuaaiszbwr', '@rodrigo__nem @radio98oficial @kerberdiego e quem disse que eu preciso e um pc nível ps5 hoje? daqui alguns meses lança a 3060 mais forte que os novos consoles e mais barata eu coloco ela no meu pc e pronto, já tenho um pc com mais desempenho que a próxima geração e mais barato', '\"playstation 5 (ps5): como assistir ao evento que pode revelar preço - techtudo\"\\n\\nhttps://t.co/kay5bh3hya i https://t.co/eycyqllpft\\n#playstation #playstationbrasil #playstation4 #ps4 #ps4brasil #notíciasplaystation \\nhttps://t.co/i4ms2oyi9p', 'camisa do athletico e o ps5 vai ser quase o mesmo preço', 'final fantasy 7 remake part 2 é confirmado com um pequeno teaser pra 2022.\\n\\nproject athia é revelado como sendo final fantasy 16 com exclusividade temporária pro ps5.\\n\\nhousemarque revela mais um trailer de returnal, chegando para o ps5 no primeiro semestre de 2021.\\n\\n++', 'alguem quer ver o evento do ps5 cmg', 'o que pegar no inicio dessa geração?\\nxbox series x é um pouco mais poderoso do que o ps5, pode indicar um lugar minimamente melhor pra rodar os third party, mas não acho que seja uma diferença significativa de fato. +', 'hoje é o dia!!! \\n\\ntô esperando, viu @playstation_br ?\\n\\nquero o preço do #ps5 na minha mesa até às 17h30, por gentileza.', '@psciarotta minhas apostas (não na ordem): preço (459,00 e 349,00) e data, demon souls, anuncio do silent hill, ps now, mostra do so do ps5 e finalizar com anuncio do gow2 hehehehe', '@onlytuiko @windowsclubbr provavelmente da forma que você escreve,acredito eu que não vai comprar o ps5 no lançamento então para de falar de um produto que não vai ter que é meio feio,mas também tem a possibilidade de ganhar dos papais e ganhar um jogo por ano.', 'u$399 = r$5300\\n\\ne vcs achando que o ps5 vem por menos de 5k hm kk https://t.co/etc601hq2e', '@alanzoka fé no pai, que o preço do ps5 sai', '\"a sony não mente para o consumidor, vcs só inventam as coisas\" é por isso que a sony faz o que quer com os sonystas, eles acreditam em tudo o que ela fala kkkkkkkkk agora ela está mentindo sobre várias coisas do ps5 pra manter a tradição https://t.co/ns0qa2matb', '@davipbe_ o evento da sony do ps5, foi o melhor do ano de longe.', 'com o absurdo do preço que o ps5 vai sair aqui no brasil, ai que eu nao vou precisar mesmo vender meu ps4 pro, não vai fazer nem sentido vender essa porra, vender por seila 1900, 2000 conto pra ajudar na compra de um video game que vai ser 8mil(sendo bonzinho), vale nem a pena.', '@amyjr007 acho que vem ai o monster hunter exclusivo do swtich. se a nintendo mostra isso, o fim de ano do swtich vai ser avassalador. nao vai ter ps5 ou xbox ss xy zw que aguente...kkkkkkkkkkkkk.', 'ps5 vai chegar 5k, eu tô é rindo que vai ter otario comprando', 'jogar the last of us part ii no ps5, ou talvez um red dead redemption 2 já me dá um negócio. the witcher 3 então.\\nvamo q hoje não é um dia qualquer\\n#ps5\\n#ps5showcase', 'palpites de hoje: us 449 / 499 ...  br 5999 / 6499\\n#ps5', 'personagem memorável e incrível do mundo os games!\\n\\nobs: espero que o evento do ps5 hoje ao menos tenhamos mais informações sobre datas dos jogos, e claro a data e preço do ps5!\\nbom dia a todos os sonysta/a todos que amam vídeo game. https://t.co/ooflly63nj', 'pera hj vai ter algum evento do ps5???', '@beatrxcrf inferno de mulher bonita e linda parece um ps5 uma geladeira inox duas portas um gol rebaixado com luz neon um pc gamer blindado um gol do arrasca de bike uma flor de lótus um frango empanado crocante no ponto uma foto 4x5 com ângulo tão bom q a pessoa parece uma mini escultura', 'é hoje que eu me preparo pra comprar o ps5 em 2023 kkkkkkkkkkkkkkkkkkk', '@fuck_off_matt ta explicado o porque de falar tão mal do ps5 e puxar o caso do xbox. por isso não faço questão mais de ver os videos dele. como influenciador ele deveria trazer informação e não puxar o saco pra ganhar mimos. a', '@porraissaa so uma tunada naquele pc, um ps5 do lado com um monitor 4k... puts ai eu quero', '@gmunhoz__ eu queria comprar o ps5 mas é caro pa burro', 'o evento do ps5 vai começar quando eu tiver largando :( se aparecer algo de algum final fantasy metam minha @ no post por favor', 'tomara q revelem o preço do ps5 hj', 'fiquem em casa, a economia vemos depois.\\n\\ndepois:\\nter que vender a casa para comprar o ps5 \\n\\nhttps://t.co/khjmw47bxs', 'chegou o grande dia, vamos aos palpites:\\n\\n- ps5 standart = $499\\n- ps5 digital = $399\\n- gameplay spiderman miles morales\\n- teaser ff xvi\\n- gameplay call of duty cold war\\n- gameplay silent hill\\n- anúncio sobre a psnow\\n- nenhuma menção a retro, dashboard e features', 'cancelada por causa do ps5', 'toda nova geração de consoles exige um ritual para lembrar humanidade o que é um videogame.\\n\\nhoje, mais uma vez, essa responsabilidade será nossa.\\n\\n#ps5\\n#ps5showcase', 'nn sei pq, mas hj sonhei q a sony anunciou o ps5 preto huahuahua', '@silvahros @fazendachernoby no canal coisa de nerd eles fazem uma comparação do xbox séries e do ps5, o playstation tomou um cascudo violento em quase tudo.', 'acordei agr n consigo mais dormir n to hypadona pro evento do ps5 meo deos https://t.co/svdf9s6oa5', 'vamos lá.. hoje é  o dia dos anúncios do ps5, qual você acha que será o preço?\\neu acredito em 599 com disco e 499 para a versão sem disco.', \"@cooperfsss demon's souls no dia do lançamento??? será? \\nesse é o que eu acho mais dificil das coisas que tenho visto. acredito mais no ffxvi como exclusivo de ps5\", 'teremos xbox series x e series s no brasil no day one. \\n\\no país cresceu ainda mais na indústria nos últimos anos e foi notado pelas duas grandes empresas.\\n\\ncréditos mais uma vez ao @silva_ruancarlo, que já havia informado sobre o #ps5 https://t.co/jaeqn65mfv', 'liberal/anarco de facebook: \"ain sou contra o protecionismo à indústria\"\\n\\nsony: \"vou sair\"\\n\\nl/a: \" a culpa é sua seus comunistaaaaas\"\\n\\nl/a: \" e meu ps5? paieeee!!\"', '@ikarojyo_ na verdade, isso não afeta o ps5(a sony já não produz console aqui desde 2017). mas, é um péssimo sinal para a economia do brasil', 'bom dia meus gameplay de spider man miles morales e preço do ps5 anunciado, hoje tem (espero que tenha na verdade)!', 'será que hoje a sony vai dar o preço do #ps5?', 'xa é tt ps5 showcase e o directo é as 20.30h...\\n\\nlogo aínda hai que discutir ou facer pallas mentais para ver que sony segue dominando, sen a necesidade dun prezo, a expectación da nova xeración.\\n\\no 95 % da xente que ten unha ps4 vai mercar unha ps5. o modelo dependerá do peto.', '@obitouc84502465 @there4lon3 @shazamcaraiu @artlocked @isadorabasile pera tu ta falando pra ele comprar um ps5, mas dps fala q a comunidade de ps é suja, n to entendendo porra nenhuma', 'vazou as primeiras imagens de the last of us part 3 no ps5 que a sony vai mostrar no evento de hoje. 🗣️\\n🚨🚨🚨🚨🚨🚨🚨🚨 https://t.co/adpp6gn7yi', 'que o preço do ps5 saia amanhã, amém', '@silva_ruancarlo vc acha possivel ps now chegar junto com o ps5 aqui no brasil??', 'amigos, só pra relembrar quarta-feira dia 16/09 vamos fazer live mais cedo pelo evento da sony sobre o ps5. vamos começar as 16:30.', 'semana agitada com conferência do ps5 hoje e possível preço (se não mostrar hoje será “preço inbox”), amanhã tem direct mini da nintendo com possível monster hunter e sexta nova apresentação de novidades do cyberpunk 2077.', 'vou esperar o ps5 ficar de graça na epic games 😎', 'nesse evento do ps5 amanhã a santa monica poderia anunciar algum teaser sobre uma continuação do god of war hein!!🤔', '@afrobaiano haha claro bem as pessoas são livres para sentir o que quiser \\nação / consequência né\\nmas eu não vejo desmérito na fala tanto que a palavra liquidação quem disse foi você né\\ntodo mundo quer um ps5 nem por isso tá na liquidação', '@kiratoxico o que ? será que vão lançar ele no ps5 ?', 'graças a deus hoje minha reunião acaba bem quando começa o evento do #ps5', '@lfernando912 a sony teve que descartar 4 milhões de processadores de ps5 essa semana, será que derreteram quando o ps5 bateu os 10 teraflops com o overclock durante o teste de \"qualidade\"?', '@pes18paulo então porque a amd não falou que o ps5 tem rdna 2 com eficiência energética?', '@sonystasensato tomara q mostrem o ps5 em mãos e o sistema operacional', 'acordei né, de boa, fui na cozinha tomar café e minha irmã veio me dar bom dia, dei logo um chutão na costela, joguei ela na porta, e gritei, bom dia é o caralho, hoje tem evento do #ps5, que mané bom dia, acordei pilhadão  nessa porra e a ela vem com bom dia toma no cu https://t.co/e04w0wqxyc', 'é hoje o velório e sepultamento do xbox. finalmente acaba a espera pela revelação oficial do preço do ps5. se o dólar maldito colaborar eu compro a versão sem leitor de mídia física ainda em 2020 via mercado cinza. https://t.co/lw5gfkkrsr', 'sony: empresa reduzirá a produção do novo ps5 em 4 mi de unidades, para um total de 11 mi até março, devido a problemas com componentes. o preço e data de lançamento do produto deverão ser anunciados amanhã.', '@luizbarret @joomezzomo @xboxbr não consegue competir com uma empresa que só faz jogo terceira pessoa genérico? tó de boa com gears tatics,crossfirex,the medium e hellblade 2 no lançamento do console,se comprar o ps5 no lançamento espero que se divirta com a dlc do homem aranha mexicano...', '@ancapball_br não vai impactar nos preços do ps5, mas de qualquer jeito o xbox é melhor mesmo', '@joabzando se eu ti der a camisa do sport tu me dá um ps5?', 'se o xbox começar a vender mais que o ps5 na próxima geração ,se preparem, os jornalistas isentos vão entrar em estado de guerra tentando denegrir a marca de qualquer jeito', 'timeline hoje\\n\\nvem ni mim #ps5 https://t.co/cde1na405h', '@tzuqo mor vo cria um onlyfans pra juntar o dinheiro e te dar um ps5 curtiu', 'conhecendo o mercenarismo da sony, não duvido nada que esse ps5 digital edition seja anunciado mais tarde por uns 500 dols (espero quebrar a cara 🙏🏼)', 'lembrando que hoje é o dia do ps5. vamos ver!!!!!', 'vamo de xbox ou ps5 nessa gen hein, eita duvida', 'que hoje é dia de #ps5showcase o mundo todo sabe e está de olho! 👀\\n\\numa das apostas para o evento de hoje é que o @playstation @playstation_br mostre sua nova interface em funcionamento!\\n\\na tela de boot a gente já conhece, será que veremos tudo hoje? façam suas apostas! #ps5 https://t.co/zmrprtjv1t', '@xzticks quando o series s ainda ñ tinha sido anunciado e o ps5 era o console mais fraco da geração ela falou a mesma coisa do ps5??', '@xzticks @maisxbox \"pior do pior\"\\n\\npra cada coisa que ela falar que o ps5 tem e o xss não tem, eu falo 3 coisas que o xss tem e o ps5 não tem.', 'pqp tl muito ansioso para o novo evento do ps5 krl\\n#ps5showcase \\n#ps5', 'será que hoje teremos novidades? 🥰🥰🥰 #ps5 #ps5showcase https://t.co/3lgnv7jofi', '@silva_ruancarlo só depois que vc falar que o ps5 é um lixo e a sony vai falir.', '→ sony realiza evento do playstation 5 nesta quarta \\n\\n👉🏻 #tech #games #ps5 #playstation5 #sony #jornaldoscanyons #jdc\\n\\n🔗 confira no jornal dos canyons https://t.co/c5ioiz4jhb', 'eu não podia deixar de soltar isso, um vídeo pra vcs da nossa reação ao trailer de anúncio do spider-man: miles morales no evento de revelação do #ps5\\nquem puder curtir, compartilhar e se inscrever no canal vai ajudar demais:\\nhttps://t.co/4wgd3czrur https://t.co/1pai5sqjks', 'ps5 ou arroz os dois a 80 km/h https://t.co/tb4nzlapvj', 'será que hj rola o preço do ps5 pra ver o quanto não vou conseguir pagar? ahhahahaa', 'tô pensando em vender meu corsa pra comprar o ps5 🤣🤣🤣🤣', '@zlatansincero que porra de jogo do santos hoje anunciam o preço do ps5 marinho é meu ovo queimado', 'e hoje meus amigos e hoje 💙 #ps5 https://t.co/rs6u89uroj', 'trabalhar pra comprar meu ps5♥️', 'pqp hj tem apresentação do ps5 e só estou pensando em vc remake do demons souls ou bluudboorne 2 ou silent hill\\n#ps5showcase \\n#playstation5', 'acordei né e tals, aí fui na cozinha tomar um café e minha sobrinha veio correndo me abraçar pra me dar bom dia, dei logo um chutão, joguei na porta, bom dia o caralho, hoje é dia de guerra porra,dia de apresentar o #ps5, mané bom dia, pilhadão e a criança vem me da bom dia? kkk', 'agenda ai pra acompanhar comigo https://t.co/zwkgfqbczj\\naposto :  ps5 com leitor : 449,00 $ , sem leitor : 349,00 $\\n#playstation5 #playstation5preço #ps5reveal #ps5showcase #playstation5showcase #ps5preço #playstation5preço', 'hoje eh dia de evento do ps5 cacete', '@fuck_off_matt daqui a pouco sai que o ps5 é na verdade uma bomba e não um console.. kkkkkkk', 'meu amigo  esse ps5 vai sair por 10 mil conto.  pense numa bomba.', 'será que teremos novidades? #ps5 #ps5showcase https://t.co/opy5camouh', 'será que a sonny vai dar leak ao preco da ps5 hoje?', 'hoje é dia de ps5 caraíiiiiiiii! \\nhype', '@jojo_c4t não obrigado, prefiro meu ps5 mesmo.', '@matheus_luzzz então... é sobre isso mesmo.. faz a regra de três em cima desse valor da 3080. vamos supor que o ps5 seja 70% dessa placa. ficaria perto dos 4k. será ??', '\"- imran khan: puta merda, o series x tem 9,8 libras (4.5kg) é mais pesado que um bebê recém-nascido\\n- kez: meu irmão tinha 14 libras (6.3kg 😬) quando nasceu...só falando... \\n- timdog:  isso é o quanto pesa o ps5\"\\n\\npessoal veio reclamar do peso do series x 🤣🤣🤣 6kg e 300g 🤣🤣 https://t.co/o3qo85ugok', 'a sony saindo do país, o dólar alto...\\nmeu ps5 cada vez mais longe :(', 'a fabrica da sony fecha as portas no brasil, vcs vao comprar ps5/ps6 e afins a preço de carro', 'deus que me perdoe, mas se o ps5 chegar abaixo de 5k, vou compra-lo no lançamento!', 'ps5  custando o cheque do queiroz pra michelle. https://t.co/lopot8tsep', 'venha a nós a ps5 🤩 https://t.co/aszd9crxuq', 'gostei do novo ipad air...ate ver o preco! nao tem como ele competir com a minha vontade de ter um ps5 rs https://t.co/nana540sga', '@_cadusantos @thiagofst01 @mandogko @ocervejeiro_ kkkkkkk todos os jogos lançados até agora ou vão tar na retro do ps5, ou vão ganhar port pro ps5. já os jogos que vão lançar agora vão ganhar port pro ps5, whatch dogs legion por exemplo, vai lançar primeiro pro ps4 e xbox one e depois vai ganhar port pro ps5 e xbox séries x', 'caraio bagulho do ps5 é hoje', 'eu to ansioso para saber o valor e o dia de lançamento do ps5', '@rafsoc_ tem um ps5 dentro de uma dessas sacolas ksksksksks', '@drakesincero1 @sonystasensato talvez um novo god of war... já pensou o ps5 digital edition ser $299', '@brayan20081448 @of_zenon @fazeclan @fakie @fazeblaze @fazesway cz c tá passando vergonha kkkkkk ele fez pq ele qr ter um futuro e vc tá zoando isso agr tu mal sabe que pra aumentar o fps teriam que criar um novo console que no caso e o ps5 https://t.co/4qwogsddgs', 'boooom diaaaaa! a programação de hoje na nossa land será a seguinte: às 14h30 vamos abrir nossa live normalmente para jogar um crash maroto. às 16h30, mais ou menos, vamos invadir o canal do nosso parceiro @leongameplay01 para acompanharmos juntos o evento do ps5. conto com vcs🤓 https://t.co/lhfdv87jgb', '@guilherme_jarb ps5 dá chulé!', 'tenis chegou vai todo mundo tomarno cu bom dia, primeiramente eu quero que caixista chore bem muito hoje pra eu beber as lágrimas ps5 vai botar pra mamar', 'hoje tem evento do ps5\\n😎✌✌👍👍👍👍👍👍 https://t.co/jafc2avlrp', '👍 on @youtube: sony vai fechar fábrica no brasil | seg. a bloomberg sony esta com problemas no processador do ps5 https://t.co/tof8qbstzm', '@folha @folha_mercado ps5 vai custar um carro.', 'é hoje!!! 🎮\\nsai o preço do ps5, pra baixar o preço do ps4, ps3 ficar em conta, o ps2 a preço de banana, pra eu poder pegar um ps1 usado. #ps5showcase', 'ps5: sony nega mudanças na linha de produção após rumores de problemas com chips\\n\\nhttps://t.co/lisnce0e2w #tech #sony', 'empunha o espadim de um lendário assassino vindo das terras mais longínquas - a poderosa arma estará disponível com a reserva de #godfall, disponível para a #ps5 no final do ano! https://t.co/0iswihnwdp', '@capitaocritica ja to negociando com os cara da deep web pra vender meu rim e comprar o ps5', 'vô fazer live assistindo o evento do ps5 \\n\\namanhã às 16:30 belê', 'a playstation anunciou o seu showcase ps5 para hoje, dia 16 de setembro às 21h (hora de portugal continental).\\n\\nassiste em direto à transmissão aqui: \\nhttps://t.co/xhgxfgmwa5 https://t.co/diajszlfgq', '@voxeloficial imagina se fosse o #ps5 iria chover 🐑 pra comemorar tal notícia 🤣🤣', 'depois de uma terça repleta de novidades, agora chegamos na quarta-feira com o ps5 showcase em poucas horas!!!', \"que o ps5 seja ''barato''\", '@diegogogogle @fuck_off_matt ps5 - 400 dólares\\nps5 digital edition - 350 dólares\\nmeu palpite', 'que delícia hj tem eventinho do ps5', '@gabrielwars vídeo top!queria sugerir um vídeo comparativo sobre sx vs ps5 vs ss.apos a conferência da sony hoje,caso ela dê novas informações sobre o ps5.', 'krl só falra para de fazer ps4/ps5 vlw @jairbolsonaro por essa bosta https://t.co/557shpt4nu', '@vih8p sera q a ps now chegara ao brasil junto com o lançamento do ps5?', 'não vou descartar a idéia, mas acredito que não irá conter anúncios de games novos, só do funcionamento do ps5, tipo preço e etc.\\n#playstation5', '@chief117_com_br @vingadorbrambz se o cara estiver alcolizado o ps5 não liga.', '@kamatsukyoto as do xbox ficaram ótimas, quem sabe esse ano a sony ainda mostre a do ps5!', 'se o xbox one s, que é tido como o console mais fraco dessa geração, consegue fazer isso aqui em tempo real, imagina o ps5 e xbox series x 👁️ https://t.co/gwljpuerlm', 'reino dos magos #5 ps5 !sorteio!loja  https://t.co/psooztpdjt', 'é hoje que vamos ver se eu compro o ps5 ano que vem, ou só em 2022 😂😂', '@silva_ruancarlo @tokyo_90l eles tem alguma noção de unidades que vão ser distribuidas para esses consoles (xbox e ps5 )?', '@tk_heitorltrt acho que quando eu comprar o ps5 já vai ter lançado o ps7', 'capaz de ps5 ter alguma versão q faça competição com o series s no preço lá fora, mas qnd chegar aqui seja bem mais caro, eh triste', '@asdantz chegou a barbie fascita bruxa do ps5 https://t.co/efrg5vqcps', 'terão que reduzir o preço do console na \"força do ódio\", para ter concorrência com o xbox. o consumidor agradece. rss #hojetem #ps5 https://t.co/ksvf7fydmx', 'vai que...\\nnão custa sonhar né? 😆😆\\n\\n#ps5 #ps5showcase #playstation #playfivebrasil https://t.co/p7pjuultcq', '@locobaltar amanhã o dia é da mídia sonysta, o poderoso ps5 vai mostrar o que é nova geração de verdade e se rolar o god of war novo, podem enterrar a caixa preta da microsoft.', 'então é hj que vou descobrir se compro um ps5 ou um barco', 'mal começou o dia do ps5 e já tem xbox infartando. https://t.co/4suqgpudf8', '@blackgokudoido o foda é q na época q eu comprei meu ps4 eu não pensava assim. e eu tava pensando sobre isso na próxima geração, se o ps5/xsx vierem mais de 5k, acho que vale mais a pena comprar um pc, por que no mínimo os jogos nos consoles vão ser 279 reais', '@mayaayahost tudo pra ter dinheiro pra dar up no pc, economiza no ps5 e da all in no pc, garota, você é uma pensadora', 'que hoje mostre mais de ps5 e seus jogos e esqueça de vez godfall 🙏🏻', 'sera que hj tem precinho do ps5?', 'uma rápida e última pincelada no assunto preço antes do evento de amanhã/hoje! \\nassiste lá! \\n\\nvou dormir e amanhã/hoje é playstation nesse caralho. #ps5\\n\\nhttps://t.co/iy97sudas7', 'bom dia. \\nhoje no evento da sonya eu espero:\\n\\nrevelação gow2.\\nbloodborne 2/kart.\\nsillent hill.\\nthe last of us 3.\\nhorizon zero dawn 2 (gameplay).\\ndata do ratched.\\ngameplay demon souls.\\npsnow no brasil.\\ndata e preço do ps5.\\n\\nse não aparecer isso o evento foi uma merda. https://t.co/vxhn7zvsqr', '@fazendachernoby ansioso demais pra ver as primeiras comparações gráficas entre series s e ps5. sim, eu falei series s, pra mim tá com cara que esse console base da ms vai dar pau no ps5. esperemos.', '@gramiliki_ @nintendoamerica @rockstargames podia soltar aqele trailer de boyoneta 3, um zelda botw 2, e gta5  ( nao ligo para gta5), mas muito gente quer ele. pronto a nitnendo todo mundo...kkk. e no final mostra o suposto swtich pro...kkkkkkkkkk. pronto a nintendo ganhou o ano contra o ps5 e xbx ss x y z..kkkk', 'isso aqui dá um comentário político daqueles... você começaria com o engajamento alienado e reprodução de discursos na internet do consumidor imbecilizado nas novas mídias, e chegaria na política econômica desastrosa do governo atual.\\nhttps://t.co/mtndmtra12', 'ia ser muito engraçado se a playstation brasil liberasse o preço do ps5 primeiro que o do xbox. na verdade ia ser só lamentável mesmo kk', 'amanhã tem apresentação da sony do ps5 ás 17:00 (5 da tarde). a steel wool colocou o link da apresentação no twitter deles... será que vem trailer do fnaf 9? será que agora vai?!\\n\\nvejo vocês amanhã.\\n\\nhttps://t.co/ojmmcwyr3g', 'ps5 mais caro que um apartamento https://t.co/nl9mommvbc', '@davidpdcoelho @xzticks @maisxbox só faltou ela falar não comprem o xss, ps5 digital é melhor escolha. 😂😂😂', 'parabéns aos gamers apoiadores do bozo.\\n\\nsony brasil fechou sua fábrica em manaus o que obviamente impossibilitará fabricação nacional do ps5.\\n\\ntratem de pagar o meu agora.\\n\\n🖕🖕🖕🖕🖕🖕🖕🖕', 'qualquer valor abaixo de 450/500 dolares hoje do ps5 é lucro. se for acima, os caras vão ter q garantir nos jogos.\\n\\n#playstation5', 'quase a sair a ps5 e eu faço anos amanhã, já sabem amigos', 'fico ansiosa pro evento da sony sendo que não vou ter um ps5 tão cedo, é foda', 'já penso q loco se amanha anunciam um novo god of war.\\nfoda-se q vai custar 10k o ps5, vou precisar desse troço', 'hoje tem evento da sony apresentando melhor o ps5. #playstation5', 'borderlands 3 confirmado pro ps5, rodando a 4k/60fps https://t.co/nnxyl1gwxd', 'gente falando em cinco anos de vida útil pro ps5 e pro xsx, por exemplo, o que traria uma nova gen em 2025, ao invés de 2027.\\n\\ncomo os serviços (incluindo streaming), a internet, o hardware, a tecnologia e a vida das pessoas (e formas de consumo) estão evoluindo muito rápido,', 'é hj o ps5 (?)', 'acordei né, de boa, fui na cozinha tomar café e minha irmã veio me dar bom dia, dei logo um chutão na costela, joguei ela na porta, e gritei, bom dia é o caralho, hoje tem evento do #ps5, que mané bom dia, acordei pilhadão  nessa porra e a ela vem com bom dia toma no cu!!', '@rafapaulocr tomara q n seja só um anúncio dizendo que help wanted vai sair pra ps5 também, se isso acontecer eu saio da live e vochora', 'quando abro matéria sobre jogo interessante, mas descubro que é exclusivo do #ps5 https://t.co/8hvl0egtwj', 'que eu acorde com a notícia boa que o ps5 não vai estar valendo meu rim', '@snyxss bom dia é o caralho!\\n\\nacordei, aí fui na cozinha tomar uma café e meu sobrinho veio correndo me abraçar pra me dar bom dia, dei logo um chutão, joguei na porta, bom dia o caralho, hoje é dia de guerra porra, é dia de ps5, mané bom dia, pilhado e a criança vem me da bom dia!', 'é hoje que a sony anuncia ps5 por 400 e 500 dólares?', '@nerdisse_ @pcfrangames @adrenaline vá se lá perceber... se fosse parar para produzir a ps5...', 'discord https://t.co/q6oxummoxf\\nsiga nossas midias sociais e acompanhe memes, noticias, vídeos e lives \\n@aldoriagames\\nseja apoiador e participe de sorteios\\n#memes #humor #meme #nostalgia #ps5 #ps4 #xbox https://t.co/tmr42ovbs2', '@andreiaxj @ryanjun05908576 @jhonaimore @meuplaystation eu não entendo nada disso, mas se o ps5 foi mais barato em algum lugar vou lá buscar sksksksk', '@mahriojr bom dia sr mahrio, poderia me informar a hora do evento do ps5?', 'ohhh sony, faz o favor de anunciar logo o preço do ps5, não aguento mais o povo falando desse assunto em todo canto kkkkkkkkk https://t.co/lvinzeixt3', '@rnmgamer93 @zangwlctl nosso ps5 tá garantido 🙆💍🙆', 'como vou estar vendo a live da @sony sobre as novidades do ps5: @playstation_br \\n#playstation5 #playstation5showcase #videogames https://t.co/3rj5sktho3', '@silva_ruancarlo bom dia. apesar de estar curioso pelo preço em dólar, estou ansioso pra saber em reais, espero que anunciem logo. #ps5', 'é hojeeeeeeeeeeaeeee #ps5', 'a esse ponto, eu to mais interessado em saber se a sony vai vender o ps5 no brasil durante o lançamento do que saber sobre novos jogos, mas provavelmente nem vão anunciar isso hoje', '@playstation_br ansioso pelo lançamento do ps5 pra ver se consigo comprar o 4 kkk', 'hoje tem conferência da sony pra falarem do ps5, será que vai ser mais viável comprar uma casa ou um ps5 esse ano?', 'a meta agora é juntar dinheiro pra lançar o ps5 e nunca mais sair pra da role thau', 'bom diaaa, e q dia hein galera?! hoje promete ser um dos mais legais do ano pra mim! a partir das 14h estarei participando ao vivo lá no canal da @vresportsbrasil pra acompanhar o evento do #facebookconnect e a apresentação oficial do oculus quest 2! e às 17h tem evento do #ps5!', 'e por terem uma larga adoção, significando uma ampla base de mercado, jogos acabam sendo desenvolvidos pensando neles. atualmente, exclusivo de pc acontece menos e menos (e geralmente em gêneros onde são necessários mouse/teclado e bastante teclas).\\n\\npra vcs terem ideia, o ps5 e', '@xboxbr oxi porque o último lugar não é um ps5 ou ps4?', 'é hoje #ps5', 'bora que hoje é o evento do #ps5 na porra, hype a mil vamo que vamo https://t.co/pisywvtl1l', 'cria um perfil fake➡️ fala q meus pais me expulsaram de casa pq eu falei q era gay➡️ mendigar➡️ ganha 10 mil➡️ compra o iphone 12 e guarda pro ps5 ✅', 'tá aí pq o ps5 tá 10pau... https://t.co/3sky9t2s6i', '👍 on @youtube: quarta tem evento do ps5, ed boom comenta sobre series s - notícias do dia [ao vivo] https://t.co/ytbns4inrt', '@kkkkkaoe vou juntar p compra o ps5 🙏', 'é hoje!! a transmissão ao vivo para falar sobre o futuro do console ps5. a live contará com jogos, explicações e, possivelmente, a tão aguardada revelação de preço e data de lançamento.ansiosos ?? \\n#playstation5 #playstationshowcase https://t.co/sfr55vpnur', 'ps5 vai chegar no brasil por uns 10 mil conto https://t.co/e4g4pikxra', 'ps5 vai custar 10k\\ne a camera a7r iv vai passar pra 30k\\nvlw brasil https://t.co/q0yzwpeplf', '@there4lon3 @shazamcaraiu @artlocked @isadorabasile isso cara vai de ps5 mesmo pq a comunidade de xbox não fica ameçando os outros de morte e hacka páginas pra fazer apologia a nazismo, me orgulho da comunidade pq ela não é suja que nem a do playstation', '👍 on @youtube: problematizando games #35 ps5 com defeito? 1440p maior que 4k? nvidia = skynet https://t.co/jndxfeudo7', '@araujolp1 deixa o ps5 na sala pq a tv é muito maior', '@carlinhostroll no laçamento do ps4.. comprei de você ... que ajudou vários gamers brasileiros ... você podia vender novamente o xbox e ps5  em 🥺', 'já trouxe o terno da lavanderia. pro martini, mexido e não batido, tem tudo.\\nmandei os cachorros pra casa da vó e as crianças pra pet (🤔🤔🤔).\\npedi divórcio entre 16h45 até 18h45. desfiz todas as amizades.\\n\\nhoje é dia de #ps5showcase #ps5', '@julianolucax @carolx_ferreira @alessakarina @schanenlarissa @sabrinagab15 ps5 pq c merece', 'preparados para vê o melhor exclusivo do ps5 no evento de amanhã #ps5 https://t.co/0x8lbmgwid', 'tomara que a rapaziada do xbox n venha pro ps5,  tem uns q são chatão pqp', 'jogos que adoraria ver aparecendo amanhã na conferência do ps5 mas que obviamente vão permanecer só nos corações mesmo 😭👌 https://t.co/5qadryqu7v', 'amanhã vamos saber o preço do ps5?', '@lord_psmg lord, acha possível aparecer god of war, sillent hill, ps now na américa latina e preço do ps5 mais barato?', 'é hoje que falam que o ps5 vai ser 12 reais', '@meuplaystation ps5 all digital $399 (se a sony sangrar $$$)\\nps5 padrão $499', 'boa noite pra quem? não, eu não consigo dormir. como descobriu? #ps5', '@shihotogai pcr, eu faria com uma veia pelo ps5 e tu acha q n faria com isso?', 'é hoje crl #ps5', '@maurospbrgames @xboxbr @playstation_br @originalkratos @brksedu @ogameplayrj @xboxmilgrau_ vai atualizar este post para series x ou ps5?', 'sonhar é de graça! \"modelo mais simples do #ps5 deve custar menos de us$ 400\" https://t.co/juwos5jwyc', 'discord https://t.co/q6oxummoxf\\nsiga nossas midias sociais e acompanhe memes, noticias, vídeos e lives \\n@aldoriagames\\nseja apoiador e participe de sorteios\\n#memes #humor #meme #nostalgia #ps5 #ps4 #xbox https://t.co/nuwc9ji3w2', 'se tivesse a ps5 despedia me da marta e dos meus amigos, não saía mais de casa', 'desculpa pai, mas ps5 vai ter que vir no final do ano', 'eu nem tô assim, quem tá são vocês\\n\\n#ps5showcase #ps5 #thehypeisreal https://t.co/58oqjcd0a9', 'as vezes dá medo de pensar que o #ps5 chegue no brasil a menos de 5k.. \\n\\neu cometeria uma loucura? talvez.']\n"
     ]
    }
   ],
   "source": [
    "train_limpo.head(20)\n",
    "print(ls)"
   ]
  },
  {
   "cell_type": "code",
   "execution_count": null,
   "metadata": {},
   "outputs": [],
   "source": []
  },
  {
   "cell_type": "markdown",
   "metadata": {},
   "source": [
    "___\n",
    "### Verificando a performance do Classificador\n",
    "\n",
    "Agora você deve testar o seu classificador com a base de Testes."
   ]
  },
  {
   "cell_type": "code",
   "execution_count": null,
   "metadata": {},
   "outputs": [],
   "source": []
  },
  {
   "cell_type": "code",
   "execution_count": null,
   "metadata": {},
   "outputs": [],
   "source": []
  },
  {
   "cell_type": "code",
   "execution_count": null,
   "metadata": {},
   "outputs": [],
   "source": []
  },
  {
   "cell_type": "markdown",
   "metadata": {},
   "source": [
    "___\n",
    "### Concluindo"
   ]
  },
  {
   "cell_type": "code",
   "execution_count": null,
   "metadata": {},
   "outputs": [],
   "source": []
  },
  {
   "cell_type": "code",
   "execution_count": null,
   "metadata": {},
   "outputs": [],
   "source": []
  },
  {
   "cell_type": "markdown",
   "metadata": {},
   "source": [
    "___\n",
    "## Aperfeiçoamento:\n",
    "\n",
    "Os trabalhos vão evoluir em conceito dependendo da quantidade de itens avançados:\n",
    "\n",
    "* Limpar: \\n, :, \", ', (, ), etc SEM remover emojis\n",
    "* Corrigir separação de espaços entre palavras e emojis ou entre emojis e emojis\n",
    "* Propor outras limpezas e transformações que não afetem a qualidade da informação ou classificação\n",
    "* Criar categorias intermediárias de relevância baseadas na probabilidade: ex.: muito relevante, relevante, neutro, irrelevante, muito irrelevante (3 categorias: C, mais categorias conta para B)\n",
    "* Explicar por que não posso usar o próprio classificador para gerar mais amostras de treinamento\n",
    "* Propor diferentes cenários para Naïve Bayes fora do contexto do projeto\n",
    "* Sugerir e explicar melhorias reais com indicações concretas de como implementar (indicar como fazer e indicar material de pesquisa)\n",
    "* Montar um dashboard que realiza análise de sentimento e visualiza estes dados"
   ]
  },
  {
   "cell_type": "markdown",
   "metadata": {},
   "source": [
    "___\n",
    "## Referências"
   ]
  },
  {
   "cell_type": "markdown",
   "metadata": {},
   "source": [
    "[Naive Bayes and Text Classification](https://arxiv.org/pdf/1410.5329.pdf)  **Mais completo**\n",
    "\n",
    "[A practical explanation of a Naive Bayes Classifier](https://monkeylearn.com/blog/practical-explanation-naive-bayes-classifier/) **Mais simples**"
   ]
  },
  {
   "cell_type": "code",
   "execution_count": null,
   "metadata": {},
   "outputs": [],
   "source": []
  }
 ],
 "metadata": {
  "kernelspec": {
   "display_name": "Python 3",
   "language": "python",
   "name": "python3"
  },
  "language_info": {
   "codemirror_mode": {
    "name": "ipython",
    "version": 3
   },
   "file_extension": ".py",
   "mimetype": "text/x-python",
   "name": "python",
   "nbconvert_exporter": "python",
   "pygments_lexer": "ipython3",
   "version": "3.7.6"
  }
 },
 "nbformat": 4,
 "nbformat_minor": 4
}
